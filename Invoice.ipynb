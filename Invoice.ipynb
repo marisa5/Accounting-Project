{
 "cells": [
  {
   "cell_type": "markdown",
   "id": "6669cbb2-3fad-47d8-a162-ddf90a071dcd",
   "metadata": {},
   "source": [
    "### Invoice Generator and Tracker Project\n",
    "\n",
    "The following code creates a small system that takes customer information, services rendered, and prices, and then generates professional invoices (PDFs). The code also keeps track of paid/unpaid invoices and creates a simple dashboard that displays total revenue and outstanding amounts. "
   ]
  },
  {
   "cell_type": "code",
   "execution_count": 1,
   "id": "9da3d7fc-7bfb-445b-afe4-cd2cdb60b2bd",
   "metadata": {},
   "outputs": [],
   "source": [
    "# importing necessary libraries \n",
    "import pandas as pd\n",
    "from datetime import datetime\n",
    "from reportlab.lib.pagesizes import letter\n",
    "from reportlab.pdfgen import canvas\n",
    "import os"
   ]
  },
  {
   "cell_type": "markdown",
   "id": "3aaef6af-f423-46e6-9b96-e156c62e3e4d",
   "metadata": {},
   "source": [
    "The following lines of code create a simple database of customers and another database of services offered. "
   ]
  },
  {
   "cell_type": "code",
   "execution_count": 2,
   "id": "ef04f0ae-05f9-4959-a133-4b05d798aa93",
   "metadata": {},
   "outputs": [],
   "source": [
    "customers = pd.DataFrame({\n",
    "    'CustomerID' : [1, 2], \n",
    "    'Name' : ['Marvel Inc', 'DC Corp'],\n",
    "    'Email' : ['avengers@marvel.com', 'dccorp@dc.com']\n",
    "})"
   ]
  },
  {
   "cell_type": "code",
   "execution_count": 3,
   "id": "e5aa90a9-763e-4c63-a8c3-3f4f521a78e0",
   "metadata": {},
   "outputs": [
    {
     "data": {
      "text/html": [
       "<div>\n",
       "<style scoped>\n",
       "    .dataframe tbody tr th:only-of-type {\n",
       "        vertical-align: middle;\n",
       "    }\n",
       "\n",
       "    .dataframe tbody tr th {\n",
       "        vertical-align: top;\n",
       "    }\n",
       "\n",
       "    .dataframe thead th {\n",
       "        text-align: right;\n",
       "    }\n",
       "</style>\n",
       "<table border=\"1\" class=\"dataframe\">\n",
       "  <thead>\n",
       "    <tr style=\"text-align: right;\">\n",
       "      <th></th>\n",
       "      <th>CustomerID</th>\n",
       "      <th>Name</th>\n",
       "      <th>Email</th>\n",
       "    </tr>\n",
       "  </thead>\n",
       "  <tbody>\n",
       "    <tr>\n",
       "      <th>0</th>\n",
       "      <td>1</td>\n",
       "      <td>Marvel Inc</td>\n",
       "      <td>avengers@marvel.com</td>\n",
       "    </tr>\n",
       "    <tr>\n",
       "      <th>1</th>\n",
       "      <td>2</td>\n",
       "      <td>DC Corp</td>\n",
       "      <td>dccorp@dc.com</td>\n",
       "    </tr>\n",
       "  </tbody>\n",
       "</table>\n",
       "</div>"
      ],
      "text/plain": [
       "   CustomerID        Name                Email\n",
       "0           1  Marvel Inc  avengers@marvel.com\n",
       "1           2     DC Corp        dccorp@dc.com"
      ]
     },
     "metadata": {},
     "output_type": "display_data"
    }
   ],
   "source": [
    "display(customers)"
   ]
  },
  {
   "cell_type": "code",
   "execution_count": 4,
   "id": "d4e1750d-679e-4970-bb74-fe05bfa66962",
   "metadata": {},
   "outputs": [],
   "source": [
    "services = pd.DataFrame({\n",
    "    'ServiceID' : [101, 102],\n",
    "    'Description' : ['Bookeeping', 'Tax Filing'],\n",
    "    'Price' : [500, 800]\n",
    "})"
   ]
  },
  {
   "cell_type": "code",
   "execution_count": 5,
   "id": "d235d71b-9a5c-4ced-9d3b-ef7dd7111b53",
   "metadata": {},
   "outputs": [
    {
     "data": {
      "text/html": [
       "<div>\n",
       "<style scoped>\n",
       "    .dataframe tbody tr th:only-of-type {\n",
       "        vertical-align: middle;\n",
       "    }\n",
       "\n",
       "    .dataframe tbody tr th {\n",
       "        vertical-align: top;\n",
       "    }\n",
       "\n",
       "    .dataframe thead th {\n",
       "        text-align: right;\n",
       "    }\n",
       "</style>\n",
       "<table border=\"1\" class=\"dataframe\">\n",
       "  <thead>\n",
       "    <tr style=\"text-align: right;\">\n",
       "      <th></th>\n",
       "      <th>ServiceID</th>\n",
       "      <th>Description</th>\n",
       "      <th>Price</th>\n",
       "    </tr>\n",
       "  </thead>\n",
       "  <tbody>\n",
       "    <tr>\n",
       "      <th>0</th>\n",
       "      <td>101</td>\n",
       "      <td>Bookeeping</td>\n",
       "      <td>500</td>\n",
       "    </tr>\n",
       "    <tr>\n",
       "      <th>1</th>\n",
       "      <td>102</td>\n",
       "      <td>Tax Filing</td>\n",
       "      <td>800</td>\n",
       "    </tr>\n",
       "  </tbody>\n",
       "</table>\n",
       "</div>"
      ],
      "text/plain": [
       "   ServiceID Description  Price\n",
       "0        101  Bookeeping    500\n",
       "1        102  Tax Filing    800"
      ]
     },
     "metadata": {},
     "output_type": "display_data"
    }
   ],
   "source": [
    "display(services)"
   ]
  },
  {
   "cell_type": "markdown",
   "id": "b1b10a28-f106-4594-ad7e-093b02a24bf3",
   "metadata": {},
   "source": [
    "The following is a function that generates an invoice based on selected customer and services."
   ]
  },
  {
   "cell_type": "code",
   "execution_count": 6,
   "id": "5b45110c-3cfb-4862-bcf3-6b380d6def1b",
   "metadata": {},
   "outputs": [],
   "source": [
    "def generate_invoice(customer_id, service_ids, invoice_date=datetime.today()):\n",
    "    \"\"\"\n",
    "    Args:\n",
    "        customer_id (int): ID of the customer \n",
    "        service_ids (list): List of IDs of selected services \n",
    "        invoice_date (datetime): Date of the invoice ()\n",
    "\n",
    "    Returns: \n",
    "        dict: Invoice details \n",
    "    \"\"\"\n",
    "    # Get customer information\n",
    "    customer = customers[customers['CustomerID']==customer_id].iloc[0]\n",
    "\n",
    "    # Get selected service/s\n",
    "    selected_services = services[services['ServiceID'].isin(service_ids)]\n",
    "\n",
    "    # Calculate total amount\n",
    "    total = selected_services['Price'].sum()\n",
    "\n",
    "    # Create invoice dictionary \n",
    "    invoice = {\n",
    "        'CustomerID': customer_id,\n",
    "        'InvoiceDate' : invoice_date.strftime(\"%Y-%m-%d\"),\n",
    "        'CustomerName': customer['Name'],\n",
    "        'CustomerEmail': customer['Email'],\n",
    "        'Services': \", \".join(selected_services['Description'].values),\n",
    "        'Amount': total,\n",
    "        'Paid': False,  # Default status is unpaid\n",
    "        'PaymentDate': None  # No payment date initially\n",
    "    }\n",
    "\n",
    "    return invoice"
   ]
  },
  {
   "cell_type": "markdown",
   "id": "545ec4a3-6822-4a14-9167-d55982a590a3",
   "metadata": {},
   "source": [
    "The following code uses the **generate_invoice** function to create invoices. The invoices are stored in a list and then converted into a dataframe for eaaier management. "
   ]
  },
  {
   "cell_type": "code",
   "execution_count": 7,
   "id": "e819a517-384f-4af5-abe3-1ad8acc8151a",
   "metadata": {},
   "outputs": [
    {
     "data": {
      "text/html": [
       "<div>\n",
       "<style scoped>\n",
       "    .dataframe tbody tr th:only-of-type {\n",
       "        vertical-align: middle;\n",
       "    }\n",
       "\n",
       "    .dataframe tbody tr th {\n",
       "        vertical-align: top;\n",
       "    }\n",
       "\n",
       "    .dataframe thead th {\n",
       "        text-align: right;\n",
       "    }\n",
       "</style>\n",
       "<table border=\"1\" class=\"dataframe\">\n",
       "  <thead>\n",
       "    <tr style=\"text-align: right;\">\n",
       "      <th></th>\n",
       "      <th>CustomerID</th>\n",
       "      <th>InvoiceDate</th>\n",
       "      <th>CustomerName</th>\n",
       "      <th>CustomerEmail</th>\n",
       "      <th>Services</th>\n",
       "      <th>Amount</th>\n",
       "      <th>Paid</th>\n",
       "      <th>PaymentDate</th>\n",
       "    </tr>\n",
       "  </thead>\n",
       "  <tbody>\n",
       "    <tr>\n",
       "      <th>0</th>\n",
       "      <td>1</td>\n",
       "      <td>2025-04-26</td>\n",
       "      <td>Marvel Inc</td>\n",
       "      <td>avengers@marvel.com</td>\n",
       "      <td>Bookeeping, Tax Filing</td>\n",
       "      <td>1300</td>\n",
       "      <td>False</td>\n",
       "      <td>None</td>\n",
       "    </tr>\n",
       "    <tr>\n",
       "      <th>1</th>\n",
       "      <td>2</td>\n",
       "      <td>2025-04-26</td>\n",
       "      <td>DC Corp</td>\n",
       "      <td>dccorp@dc.com</td>\n",
       "      <td>Bookeeping</td>\n",
       "      <td>500</td>\n",
       "      <td>False</td>\n",
       "      <td>None</td>\n",
       "    </tr>\n",
       "  </tbody>\n",
       "</table>\n",
       "</div>"
      ],
      "text/plain": [
       "   CustomerID InvoiceDate CustomerName        CustomerEmail  \\\n",
       "0           1  2025-04-26   Marvel Inc  avengers@marvel.com   \n",
       "1           2  2025-04-26      DC Corp        dccorp@dc.com   \n",
       "\n",
       "                 Services  Amount   Paid PaymentDate  \n",
       "0  Bookeeping, Tax Filing    1300  False        None  \n",
       "1              Bookeeping     500  False        None  "
      ]
     },
     "metadata": {},
     "output_type": "display_data"
    }
   ],
   "source": [
    "# Initialize an empty list to store invoices\n",
    "invoice_log = []\n",
    "\n",
    "# Example: Generate two invoices\n",
    "invoice1 = generate_invoice(1, [101, 102])  # Invoice for Marvel Inc for both services\n",
    "invoice2 = generate_invoice(2, [101])       # Invoice for DC Corp for one service\n",
    "\n",
    "# Add invoices to the log\n",
    "invoice_log.append(invoice1)\n",
    "invoice_log.append(invoice2)\n",
    "\n",
    "# Convert invoice log into a DataFrame for easier management\n",
    "invoices_df = pd.DataFrame(invoice_log)\n",
    "\n",
    "# View Current Invoices\n",
    "display(invoices_df)"
   ]
  },
  {
   "cell_type": "markdown",
   "id": "cc1bb560-4988-42aa-913f-c4903747d18f",
   "metadata": {},
   "source": [
    "The following code generates PDFs for each invoice."
   ]
  },
  {
   "cell_type": "code",
   "execution_count": 8,
   "id": "a6f996c9-d027-48f8-bbe1-147323c8469f",
   "metadata": {},
   "outputs": [],
   "source": [
    "def generate_invoice_pdf(invoice, filename):\n",
    "    \"\"\"\n",
    "    Args:\n",
    "        invoice (dict): Invoice details\n",
    "        filename (str): File path for the PDF\n",
    "    \"\"\"\n",
    "    # Folder path where PDFs will be saved\n",
    "    folder_path = os.path.join(os.path.expanduser(\"~\"), \"Desktop\", \"acc_proj\", \"invoices\")\n",
    "    # Full file path\n",
    "    file_path = os.path.join(folder_path, filename)\n",
    "    \n",
    "    # Create the PDF\n",
    "    c = canvas.Canvas(file_path, pagesize=letter)\n",
    "    width, height = letter\n",
    "\n",
    "    # Add title\n",
    "    c.setFont(\"Helvetica-Bold\", 16)\n",
    "    c.drawString(200, height - 50, f\"Invoice for {invoice['CustomerName']}\")\n",
    "\n",
    "    # Invoice details\n",
    "    c.setFont(\"Helvetica\", 12)\n",
    "    y_position = height - 100\n",
    "    c.drawString(50, y_position, f\"Customer Name: {invoice['CustomerName']}\")\n",
    "    y_position -= 20\n",
    "    c.drawString(50, y_position, f\"Customer Email: {invoice['CustomerEmail']}\")\n",
    "    y_position -= 20\n",
    "    c.drawString(50, y_position, f\"Invoice Date: {invoice['InvoiceDate']}\")\n",
    "    y_position -= 20\n",
    "    c.drawString(50, y_position, f\"Services: {invoice['Services']}\")\n",
    "    y_position -= 20\n",
    "    c.drawString(50, y_position, f\"Total Amount: ${invoice['Amount']:,.2f}\")\n",
    "    y_position -= 20\n",
    "    c.drawString(50, y_position, f\"Paid: {'Yes' if invoice['Paid'] else 'No'}\")\n",
    "    if invoice['Paid']:\n",
    "        y_position -= 20\n",
    "        c.drawString(50, y_position, f\"Payment Date: {invoice['PaymentDate']}\")\n",
    "\n",
    "    # Save the PDF\n",
    "    c.save()"
   ]
  },
  {
   "cell_type": "markdown",
   "id": "d6bcf716-87f5-4491-a649-489eec33bb9b",
   "metadata": {},
   "source": [
    "The following code generates PDFs for each invoice using the **generate_invoice_pdf** function."
   ]
  },
  {
   "cell_type": "code",
   "execution_count": 9,
   "id": "5bddbcdb-f0ce-4cfd-911e-376941ce3216",
   "metadata": {},
   "outputs": [],
   "source": [
    "generate_invoice_pdf(invoice1, \"invoice1_marvel.pdf\")\n",
    "generate_invoice_pdf(invoice2, \"invoice2_DC.pdf\")"
   ]
  },
  {
   "cell_type": "markdown",
   "id": "56a3d033-811b-4fd7-93c8-06899fdd1f0e",
   "metadata": {},
   "source": [
    "The following function updates the payment status of invoices as paid based on customer ID. "
   ]
  },
  {
   "cell_type": "code",
   "execution_count": 10,
   "id": "f4343662-e8ab-4115-a402-17ae9ed59ac3",
   "metadata": {},
   "outputs": [],
   "source": [
    "def mark_as_paid(customer_id):\n",
    "    \"\"\"\n",
    "    Marks only unpaid invoices as paid based on customer ID and records payment date.\n",
    "    Args:\n",
    "        customer_id (int): ID of the customer\n",
    "    \"\"\"\n",
    "    unpaid_invoices = (invoices_df['CustomerID'] == customer_id) & (invoices_df['Paid'] == False)\n",
    "    invoices_df.loc[unpaid_invoices, 'Paid'] = True\n",
    "    invoices_df.loc[unpaid_invoices, 'PaymentDate'] = datetime.today().strftime(\"%Y-%m-%d\")"
   ]
  },
  {
   "cell_type": "markdown",
   "id": "8b28d88c-3df2-42cd-9e17-cee8e52366bf",
   "metadata": {},
   "source": [
    "To test the **mark_as_paid** function, update DC Corp's invoice (CustomerID = 2) as paid. Automatic color-coding is used where green marks paid invoices and red marks unpaid invoices."
   ]
  },
  {
   "cell_type": "code",
   "execution_count": 11,
   "id": "1d933e49-49b2-4a90-bef4-7c4e85a97cd8",
   "metadata": {},
   "outputs": [
    {
     "data": {
      "text/html": [
       "<style type=\"text/css\">\n",
       "#T_ba902_row0_col0, #T_ba902_row0_col1, #T_ba902_row0_col2, #T_ba902_row0_col3, #T_ba902_row0_col4, #T_ba902_row0_col5, #T_ba902_row0_col6, #T_ba902_row0_col7 {\n",
       "  background-color: #f8d7da;\n",
       "}\n",
       "#T_ba902_row1_col0, #T_ba902_row1_col1, #T_ba902_row1_col2, #T_ba902_row1_col3, #T_ba902_row1_col4, #T_ba902_row1_col5, #T_ba902_row1_col6, #T_ba902_row1_col7 {\n",
       "  background-color: #d4edda;\n",
       "}\n",
       "</style>\n",
       "<table id=\"T_ba902\">\n",
       "  <thead>\n",
       "    <tr>\n",
       "      <th class=\"blank level0\" >&nbsp;</th>\n",
       "      <th id=\"T_ba902_level0_col0\" class=\"col_heading level0 col0\" >CustomerID</th>\n",
       "      <th id=\"T_ba902_level0_col1\" class=\"col_heading level0 col1\" >InvoiceDate</th>\n",
       "      <th id=\"T_ba902_level0_col2\" class=\"col_heading level0 col2\" >CustomerName</th>\n",
       "      <th id=\"T_ba902_level0_col3\" class=\"col_heading level0 col3\" >CustomerEmail</th>\n",
       "      <th id=\"T_ba902_level0_col4\" class=\"col_heading level0 col4\" >Services</th>\n",
       "      <th id=\"T_ba902_level0_col5\" class=\"col_heading level0 col5\" >Amount</th>\n",
       "      <th id=\"T_ba902_level0_col6\" class=\"col_heading level0 col6\" >Paid</th>\n",
       "      <th id=\"T_ba902_level0_col7\" class=\"col_heading level0 col7\" >PaymentDate</th>\n",
       "    </tr>\n",
       "  </thead>\n",
       "  <tbody>\n",
       "    <tr>\n",
       "      <th id=\"T_ba902_level0_row0\" class=\"row_heading level0 row0\" >0</th>\n",
       "      <td id=\"T_ba902_row0_col0\" class=\"data row0 col0\" >1</td>\n",
       "      <td id=\"T_ba902_row0_col1\" class=\"data row0 col1\" >2025-04-26</td>\n",
       "      <td id=\"T_ba902_row0_col2\" class=\"data row0 col2\" >Marvel Inc</td>\n",
       "      <td id=\"T_ba902_row0_col3\" class=\"data row0 col3\" >avengers@marvel.com</td>\n",
       "      <td id=\"T_ba902_row0_col4\" class=\"data row0 col4\" >Bookeeping, Tax Filing</td>\n",
       "      <td id=\"T_ba902_row0_col5\" class=\"data row0 col5\" >1300</td>\n",
       "      <td id=\"T_ba902_row0_col6\" class=\"data row0 col6\" >False</td>\n",
       "      <td id=\"T_ba902_row0_col7\" class=\"data row0 col7\" >None</td>\n",
       "    </tr>\n",
       "    <tr>\n",
       "      <th id=\"T_ba902_level0_row1\" class=\"row_heading level0 row1\" >1</th>\n",
       "      <td id=\"T_ba902_row1_col0\" class=\"data row1 col0\" >2</td>\n",
       "      <td id=\"T_ba902_row1_col1\" class=\"data row1 col1\" >2025-04-26</td>\n",
       "      <td id=\"T_ba902_row1_col2\" class=\"data row1 col2\" >DC Corp</td>\n",
       "      <td id=\"T_ba902_row1_col3\" class=\"data row1 col3\" >dccorp@dc.com</td>\n",
       "      <td id=\"T_ba902_row1_col4\" class=\"data row1 col4\" >Bookeeping</td>\n",
       "      <td id=\"T_ba902_row1_col5\" class=\"data row1 col5\" >500</td>\n",
       "      <td id=\"T_ba902_row1_col6\" class=\"data row1 col6\" >True</td>\n",
       "      <td id=\"T_ba902_row1_col7\" class=\"data row1 col7\" >2025-04-26</td>\n",
       "    </tr>\n",
       "  </tbody>\n",
       "</table>\n"
      ],
      "text/plain": [
       "<pandas.io.formats.style.Styler at 0x1277d7250>"
      ]
     },
     "metadata": {},
     "output_type": "display_data"
    }
   ],
   "source": [
    "mark_as_paid(2) # DC Corp CustomerID = 2 \n",
    "\n",
    "# View Updated Invoices\n",
    "def highlight_paid_unpaid(row):\n",
    "    \"\"\"\n",
    "    Applies background color based on payment status.\n",
    "    \"\"\"\n",
    "    if row['Paid']:\n",
    "        return ['background-color: #d4edda'] * len(row)  # Light green\n",
    "    else:\n",
    "        return ['background-color: #f8d7da'] * len(row)  # Light red\n",
    "\n",
    "# Apply the styling and display\n",
    "styled_invoices = invoices_df.style.apply(highlight_paid_unpaid, axis=1)\n",
    "display(styled_invoices)"
   ]
  },
  {
   "cell_type": "markdown",
   "id": "b6b9f137-535f-4a7b-a41a-613f7aa858ae",
   "metadata": {},
   "source": [
    "In the dataframe above, DC Corp's \"Paid\" status has updated from False to True. "
   ]
  },
  {
   "cell_type": "markdown",
   "id": "2f450141-706d-42b4-8c55-94c514040886",
   "metadata": {},
   "source": [
    "The code below displays a simple invoice summary."
   ]
  },
  {
   "cell_type": "code",
   "execution_count": 12,
   "id": "0ffef332-f118-409a-a3b7-e2a8710382e5",
   "metadata": {},
   "outputs": [
    {
     "name": "stdout",
     "output_type": "stream",
     "text": [
      "========================================\n",
      "Invoice Summary Dashboard\n",
      "========================================\n",
      "Total Revenue Collected: $500.00\n",
      "Outstanding Balance: $1,300.00\n",
      "\n",
      "--- Revenue by Customer ---\n"
     ]
    },
    {
     "data": {
      "text/html": [
       "<div>\n",
       "<style scoped>\n",
       "    .dataframe tbody tr th:only-of-type {\n",
       "        vertical-align: middle;\n",
       "    }\n",
       "\n",
       "    .dataframe tbody tr th {\n",
       "        vertical-align: top;\n",
       "    }\n",
       "\n",
       "    .dataframe thead th {\n",
       "        text-align: right;\n",
       "    }\n",
       "</style>\n",
       "<table border=\"1\" class=\"dataframe\">\n",
       "  <thead>\n",
       "    <tr style=\"text-align: right;\">\n",
       "      <th></th>\n",
       "      <th>CustomerName</th>\n",
       "      <th>Amount</th>\n",
       "    </tr>\n",
       "  </thead>\n",
       "  <tbody>\n",
       "    <tr>\n",
       "      <th>0</th>\n",
       "      <td>DC Corp</td>\n",
       "      <td>$500.00</td>\n",
       "    </tr>\n",
       "  </tbody>\n",
       "</table>\n",
       "</div>"
      ],
      "text/plain": [
       "  CustomerName   Amount\n",
       "0      DC Corp  $500.00"
      ]
     },
     "metadata": {},
     "output_type": "display_data"
    }
   ],
   "source": [
    "print(\"=\"*40)\n",
    "print(\"Invoice Summary Dashboard\")\n",
    "print(\"=\"*40)\n",
    "\n",
    "# Total Revenue Collected\n",
    "total_collected = invoices_df[invoices_df['Paid']]['Amount'].sum()\n",
    "print(f\"Total Revenue Collected: ${total_collected:,.2f}\")\n",
    "\n",
    "# Outstanding Balance\n",
    "outstanding_balance = invoices_df[~invoices_df['Paid']]['Amount'].sum()\n",
    "print(f\"Outstanding Balance: ${outstanding_balance:,.2f}\")\n",
    "\n",
    "print(\"\\n--- Revenue by Customer ---\")\n",
    "\n",
    "# Revenue collected by each customer\n",
    "revenue_by_customer = invoices_df[invoices_df['Paid']].groupby('CustomerName')['Amount'].sum().reset_index()\n",
    "revenue_by_customer['Amount'] = revenue_by_customer['Amount'].map('${:,.2f}'.format)\n",
    "\n",
    "display(revenue_by_customer)"
   ]
  }
 ],
 "metadata": {
  "kernelspec": {
   "display_name": "Python 3 (ipykernel)",
   "language": "python",
   "name": "python3"
  },
  "language_info": {
   "codemirror_mode": {
    "name": "ipython",
    "version": 3
   },
   "file_extension": ".py",
   "mimetype": "text/x-python",
   "name": "python",
   "nbconvert_exporter": "python",
   "pygments_lexer": "ipython3",
   "version": "3.11.5"
  }
 },
 "nbformat": 4,
 "nbformat_minor": 5
}
